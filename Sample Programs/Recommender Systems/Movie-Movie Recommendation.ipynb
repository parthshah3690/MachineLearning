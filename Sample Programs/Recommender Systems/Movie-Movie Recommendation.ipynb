{
 "cells": [
  {
   "cell_type": "markdown",
   "metadata": {},
   "source": [
    "# Movie-Movie Recommendation\n",
    "\n",
    "\n",
    "### DESCRIPTION\n",
    "\n",
    "Consider the ratings dataset below containing data on UserID, MovieID, Rating, and Timestamp. Each line of this file represents one rating of one movie by one user and has the following format: UserID::MovieID::Rating::Timestamp Ratings are made on a 5 star scale with half star increments. UserID: represents the ID of the user MovieID: represents the ID of the movie Timestamp: represents seconds from midnight Coordinated Universal Time (UTC) of January 1, 1970.\n",
    "\n",
    "### Objective\n",
    "Predict a movie-movie recommendation model."
   ]
  },
  {
   "cell_type": "code",
   "execution_count": 1,
   "metadata": {},
   "outputs": [],
   "source": [
    "# import required libraries\n",
    "import pandas as pd\n",
    "import numpy as np"
   ]
  },
  {
   "cell_type": "code",
   "execution_count": 2,
   "metadata": {},
   "outputs": [],
   "source": [
    "# import dataset\n",
    "df = pd.read_csv('Recommend.csv', names=['user_id', 'movie_id', 'rating', 'timestamp'])"
   ]
  },
  {
   "cell_type": "code",
   "execution_count": 3,
   "metadata": {},
   "outputs": [
    {
     "data": {
      "text/html": [
       "<div>\n",
       "<style scoped>\n",
       "    .dataframe tbody tr th:only-of-type {\n",
       "        vertical-align: middle;\n",
       "    }\n",
       "\n",
       "    .dataframe tbody tr th {\n",
       "        vertical-align: top;\n",
       "    }\n",
       "\n",
       "    .dataframe thead th {\n",
       "        text-align: right;\n",
       "    }\n",
       "</style>\n",
       "<table border=\"1\" class=\"dataframe\">\n",
       "  <thead>\n",
       "    <tr style=\"text-align: right;\">\n",
       "      <th></th>\n",
       "      <th>user_id</th>\n",
       "      <th>movie_id</th>\n",
       "      <th>rating</th>\n",
       "      <th>timestamp</th>\n",
       "    </tr>\n",
       "  </thead>\n",
       "  <tbody>\n",
       "    <tr>\n",
       "      <th>0</th>\n",
       "      <td>196</td>\n",
       "      <td>242</td>\n",
       "      <td>3</td>\n",
       "      <td>881250949</td>\n",
       "    </tr>\n",
       "    <tr>\n",
       "      <th>1</th>\n",
       "      <td>186</td>\n",
       "      <td>302</td>\n",
       "      <td>3</td>\n",
       "      <td>891717742</td>\n",
       "    </tr>\n",
       "    <tr>\n",
       "      <th>2</th>\n",
       "      <td>22</td>\n",
       "      <td>377</td>\n",
       "      <td>1</td>\n",
       "      <td>878887116</td>\n",
       "    </tr>\n",
       "    <tr>\n",
       "      <th>3</th>\n",
       "      <td>244</td>\n",
       "      <td>51</td>\n",
       "      <td>2</td>\n",
       "      <td>880606923</td>\n",
       "    </tr>\n",
       "    <tr>\n",
       "      <th>4</th>\n",
       "      <td>166</td>\n",
       "      <td>346</td>\n",
       "      <td>1</td>\n",
       "      <td>886397596</td>\n",
       "    </tr>\n",
       "  </tbody>\n",
       "</table>\n",
       "</div>"
      ],
      "text/plain": [
       "   user_id  movie_id  rating  timestamp\n",
       "0      196       242       3  881250949\n",
       "1      186       302       3  891717742\n",
       "2       22       377       1  878887116\n",
       "3      244        51       2  880606923\n",
       "4      166       346       1  886397596"
      ]
     },
     "execution_count": 3,
     "metadata": {},
     "output_type": "execute_result"
    }
   ],
   "source": [
    "#Look at the data\n",
    "df.head()"
   ]
  },
  {
   "cell_type": "code",
   "execution_count": 4,
   "metadata": {},
   "outputs": [
    {
     "data": {
      "text/plain": [
       "(100000, 4)"
      ]
     },
     "execution_count": 4,
     "metadata": {},
     "output_type": "execute_result"
    }
   ],
   "source": [
    "# Look at the shape\n",
    "df.shape"
   ]
  },
  {
   "cell_type": "code",
   "execution_count": 5,
   "metadata": {},
   "outputs": [
    {
     "data": {
      "text/plain": [
       "user_id      0\n",
       "movie_id     0\n",
       "rating       0\n",
       "timestamp    0\n",
       "dtype: int64"
      ]
     },
     "execution_count": 5,
     "metadata": {},
     "output_type": "execute_result"
    }
   ],
   "source": [
    "# check for na values\n",
    "df.isnull().sum()"
   ]
  },
  {
   "cell_type": "code",
   "execution_count": 6,
   "metadata": {},
   "outputs": [
    {
     "data": {
      "text/plain": [
       "943"
      ]
     },
     "execution_count": 6,
     "metadata": {},
     "output_type": "execute_result"
    }
   ],
   "source": [
    "# number of users\n",
    "n_users = df.user_id.unique().shape[0]\n",
    "n_users"
   ]
  },
  {
   "cell_type": "code",
   "execution_count": 7,
   "metadata": {},
   "outputs": [
    {
     "data": {
      "text/plain": [
       "1682"
      ]
     },
     "execution_count": 7,
     "metadata": {},
     "output_type": "execute_result"
    }
   ],
   "source": [
    "# number of movies\n",
    "n_movies = df.movie_id.unique().shape[0]\n",
    "n_movies"
   ]
  },
  {
   "cell_type": "code",
   "execution_count": 8,
   "metadata": {},
   "outputs": [],
   "source": [
    "# Import sklearn library for model selection and spliting dataset into training and testing\n",
    "from sklearn.model_selection import train_test_split\n",
    "train_data, test_data = train_test_split(df, test_size = 0.25)"
   ]
  },
  {
   "cell_type": "code",
   "execution_count": 9,
   "metadata": {},
   "outputs": [
    {
     "data": {
      "text/plain": [
       "(75000, 4)"
      ]
     },
     "execution_count": 9,
     "metadata": {},
     "output_type": "execute_result"
    }
   ],
   "source": [
    "train_data.shape"
   ]
  },
  {
   "cell_type": "code",
   "execution_count": 10,
   "metadata": {},
   "outputs": [
    {
     "data": {
      "text/html": [
       "<div>\n",
       "<style scoped>\n",
       "    .dataframe tbody tr th:only-of-type {\n",
       "        vertical-align: middle;\n",
       "    }\n",
       "\n",
       "    .dataframe tbody tr th {\n",
       "        vertical-align: top;\n",
       "    }\n",
       "\n",
       "    .dataframe thead th {\n",
       "        text-align: right;\n",
       "    }\n",
       "</style>\n",
       "<table border=\"1\" class=\"dataframe\">\n",
       "  <thead>\n",
       "    <tr style=\"text-align: right;\">\n",
       "      <th></th>\n",
       "      <th>user_id</th>\n",
       "      <th>movie_id</th>\n",
       "      <th>rating</th>\n",
       "      <th>timestamp</th>\n",
       "    </tr>\n",
       "  </thead>\n",
       "  <tbody>\n",
       "    <tr>\n",
       "      <th>68068</th>\n",
       "      <td>846</td>\n",
       "      <td>426</td>\n",
       "      <td>1</td>\n",
       "      <td>883949046</td>\n",
       "    </tr>\n",
       "    <tr>\n",
       "      <th>85642</th>\n",
       "      <td>873</td>\n",
       "      <td>339</td>\n",
       "      <td>3</td>\n",
       "      <td>891392871</td>\n",
       "    </tr>\n",
       "    <tr>\n",
       "      <th>74136</th>\n",
       "      <td>169</td>\n",
       "      <td>199</td>\n",
       "      <td>4</td>\n",
       "      <td>891359353</td>\n",
       "    </tr>\n",
       "    <tr>\n",
       "      <th>11232</th>\n",
       "      <td>296</td>\n",
       "      <td>504</td>\n",
       "      <td>5</td>\n",
       "      <td>884197394</td>\n",
       "    </tr>\n",
       "    <tr>\n",
       "      <th>61335</th>\n",
       "      <td>64</td>\n",
       "      <td>111</td>\n",
       "      <td>4</td>\n",
       "      <td>889739975</td>\n",
       "    </tr>\n",
       "    <tr>\n",
       "      <th>...</th>\n",
       "      <td>...</td>\n",
       "      <td>...</td>\n",
       "      <td>...</td>\n",
       "      <td>...</td>\n",
       "    </tr>\n",
       "    <tr>\n",
       "      <th>95394</th>\n",
       "      <td>884</td>\n",
       "      <td>213</td>\n",
       "      <td>4</td>\n",
       "      <td>876859207</td>\n",
       "    </tr>\n",
       "    <tr>\n",
       "      <th>70991</th>\n",
       "      <td>666</td>\n",
       "      <td>507</td>\n",
       "      <td>3</td>\n",
       "      <td>880567771</td>\n",
       "    </tr>\n",
       "    <tr>\n",
       "      <th>31479</th>\n",
       "      <td>542</td>\n",
       "      <td>693</td>\n",
       "      <td>4</td>\n",
       "      <td>886533395</td>\n",
       "    </tr>\n",
       "    <tr>\n",
       "      <th>98224</th>\n",
       "      <td>892</td>\n",
       "      <td>495</td>\n",
       "      <td>4</td>\n",
       "      <td>886609218</td>\n",
       "    </tr>\n",
       "    <tr>\n",
       "      <th>24538</th>\n",
       "      <td>378</td>\n",
       "      <td>792</td>\n",
       "      <td>4</td>\n",
       "      <td>880046475</td>\n",
       "    </tr>\n",
       "  </tbody>\n",
       "</table>\n",
       "<p>75000 rows × 4 columns</p>\n",
       "</div>"
      ],
      "text/plain": [
       "       user_id  movie_id  rating  timestamp\n",
       "68068      846       426       1  883949046\n",
       "85642      873       339       3  891392871\n",
       "74136      169       199       4  891359353\n",
       "11232      296       504       5  884197394\n",
       "61335       64       111       4  889739975\n",
       "...        ...       ...     ...        ...\n",
       "95394      884       213       4  876859207\n",
       "70991      666       507       3  880567771\n",
       "31479      542       693       4  886533395\n",
       "98224      892       495       4  886609218\n",
       "24538      378       792       4  880046475\n",
       "\n",
       "[75000 rows x 4 columns]"
      ]
     },
     "execution_count": 10,
     "metadata": {},
     "output_type": "execute_result"
    }
   ],
   "source": [
    "train_data"
   ]
  },
  {
   "cell_type": "code",
   "execution_count": 11,
   "metadata": {},
   "outputs": [
    {
     "data": {
      "text/plain": [
       "(25000, 4)"
      ]
     },
     "execution_count": 11,
     "metadata": {},
     "output_type": "execute_result"
    }
   ],
   "source": [
    "test_data.shape"
   ]
  },
  {
   "cell_type": "code",
   "execution_count": 12,
   "metadata": {},
   "outputs": [
    {
     "data": {
      "text/html": [
       "<div>\n",
       "<style scoped>\n",
       "    .dataframe tbody tr th:only-of-type {\n",
       "        vertical-align: middle;\n",
       "    }\n",
       "\n",
       "    .dataframe tbody tr th {\n",
       "        vertical-align: top;\n",
       "    }\n",
       "\n",
       "    .dataframe thead th {\n",
       "        text-align: right;\n",
       "    }\n",
       "</style>\n",
       "<table border=\"1\" class=\"dataframe\">\n",
       "  <thead>\n",
       "    <tr style=\"text-align: right;\">\n",
       "      <th></th>\n",
       "      <th>user_id</th>\n",
       "      <th>movie_id</th>\n",
       "      <th>rating</th>\n",
       "      <th>timestamp</th>\n",
       "    </tr>\n",
       "  </thead>\n",
       "  <tbody>\n",
       "    <tr>\n",
       "      <th>589</th>\n",
       "      <td>308</td>\n",
       "      <td>81</td>\n",
       "      <td>5</td>\n",
       "      <td>887737293</td>\n",
       "    </tr>\n",
       "    <tr>\n",
       "      <th>1677</th>\n",
       "      <td>303</td>\n",
       "      <td>94</td>\n",
       "      <td>3</td>\n",
       "      <td>879485318</td>\n",
       "    </tr>\n",
       "    <tr>\n",
       "      <th>65355</th>\n",
       "      <td>605</td>\n",
       "      <td>949</td>\n",
       "      <td>5</td>\n",
       "      <td>879427164</td>\n",
       "    </tr>\n",
       "    <tr>\n",
       "      <th>14872</th>\n",
       "      <td>366</td>\n",
       "      <td>218</td>\n",
       "      <td>3</td>\n",
       "      <td>888857866</td>\n",
       "    </tr>\n",
       "    <tr>\n",
       "      <th>62152</th>\n",
       "      <td>698</td>\n",
       "      <td>625</td>\n",
       "      <td>3</td>\n",
       "      <td>886366731</td>\n",
       "    </tr>\n",
       "    <tr>\n",
       "      <th>...</th>\n",
       "      <td>...</td>\n",
       "      <td>...</td>\n",
       "      <td>...</td>\n",
       "      <td>...</td>\n",
       "    </tr>\n",
       "    <tr>\n",
       "      <th>9121</th>\n",
       "      <td>33</td>\n",
       "      <td>895</td>\n",
       "      <td>3</td>\n",
       "      <td>891964187</td>\n",
       "    </tr>\n",
       "    <tr>\n",
       "      <th>88791</th>\n",
       "      <td>612</td>\n",
       "      <td>476</td>\n",
       "      <td>3</td>\n",
       "      <td>875324947</td>\n",
       "    </tr>\n",
       "    <tr>\n",
       "      <th>48834</th>\n",
       "      <td>524</td>\n",
       "      <td>965</td>\n",
       "      <td>4</td>\n",
       "      <td>884635288</td>\n",
       "    </tr>\n",
       "    <tr>\n",
       "      <th>26475</th>\n",
       "      <td>94</td>\n",
       "      <td>66</td>\n",
       "      <td>2</td>\n",
       "      <td>891721889</td>\n",
       "    </tr>\n",
       "    <tr>\n",
       "      <th>38117</th>\n",
       "      <td>553</td>\n",
       "      <td>479</td>\n",
       "      <td>5</td>\n",
       "      <td>879948386</td>\n",
       "    </tr>\n",
       "  </tbody>\n",
       "</table>\n",
       "<p>25000 rows × 4 columns</p>\n",
       "</div>"
      ],
      "text/plain": [
       "       user_id  movie_id  rating  timestamp\n",
       "589        308        81       5  887737293\n",
       "1677       303        94       3  879485318\n",
       "65355      605       949       5  879427164\n",
       "14872      366       218       3  888857866\n",
       "62152      698       625       3  886366731\n",
       "...        ...       ...     ...        ...\n",
       "9121        33       895       3  891964187\n",
       "88791      612       476       3  875324947\n",
       "48834      524       965       4  884635288\n",
       "26475       94        66       2  891721889\n",
       "38117      553       479       5  879948386\n",
       "\n",
       "[25000 rows x 4 columns]"
      ]
     },
     "execution_count": 12,
     "metadata": {},
     "output_type": "execute_result"
    }
   ],
   "source": [
    "test_data"
   ]
  },
  {
   "cell_type": "code",
   "execution_count": 13,
   "metadata": {},
   "outputs": [],
   "source": [
    "# Create an train data matrix, user id as row and movie id as column\n",
    "train_data_matrix = np.zeros((n_users, n_movies))"
   ]
  },
  {
   "cell_type": "code",
   "execution_count": 14,
   "metadata": {},
   "outputs": [
    {
     "data": {
      "text/plain": [
       "(943, 1682)"
      ]
     },
     "execution_count": 14,
     "metadata": {},
     "output_type": "execute_result"
    }
   ],
   "source": [
    "train_data_matrix.shape"
   ]
  },
  {
   "cell_type": "code",
   "execution_count": 15,
   "metadata": {},
   "outputs": [
    {
     "data": {
      "text/plain": [
       "array([[5., 3., 4., ..., 0., 0., 0.],\n",
       "       [4., 0., 0., ..., 0., 0., 0.],\n",
       "       [0., 0., 0., ..., 0., 0., 0.],\n",
       "       ...,\n",
       "       [5., 0., 0., ..., 0., 0., 0.],\n",
       "       [0., 0., 0., ..., 0., 0., 0.],\n",
       "       [0., 5., 0., ..., 0., 0., 0.]])"
      ]
     },
     "execution_count": 15,
     "metadata": {},
     "output_type": "execute_result"
    }
   ],
   "source": [
    "for line in train_data.itertuples():\n",
    "    train_data_matrix[line[1]-1, line[2]-1] = line[3]\n",
    "train_data_matrix"
   ]
  },
  {
   "cell_type": "code",
   "execution_count": 16,
   "metadata": {},
   "outputs": [],
   "source": [
    "# Create an test data matrix, user id as row and movie id as column\n",
    "test_data_matrix = np.zeros((n_users, n_movies))"
   ]
  },
  {
   "cell_type": "code",
   "execution_count": 17,
   "metadata": {},
   "outputs": [
    {
     "data": {
      "text/plain": [
       "(943, 1682)"
      ]
     },
     "execution_count": 17,
     "metadata": {},
     "output_type": "execute_result"
    }
   ],
   "source": [
    "test_data_matrix.shape"
   ]
  },
  {
   "cell_type": "code",
   "execution_count": 18,
   "metadata": {},
   "outputs": [
    {
     "data": {
      "text/plain": [
       "array([[0., 0., 0., ..., 0., 0., 0.],\n",
       "       [0., 0., 0., ..., 0., 0., 0.],\n",
       "       [0., 0., 0., ..., 0., 0., 0.],\n",
       "       ...,\n",
       "       [0., 0., 0., ..., 0., 0., 0.],\n",
       "       [0., 0., 0., ..., 0., 0., 0.],\n",
       "       [0., 0., 0., ..., 0., 0., 0.]])"
      ]
     },
     "execution_count": 18,
     "metadata": {},
     "output_type": "execute_result"
    }
   ],
   "source": [
    "for line in test_data.itertuples():\n",
    "    test_data_matrix[line[1]-1, line[2]-1] = line[3]\n",
    "test_data_matrix"
   ]
  },
  {
   "cell_type": "code",
   "execution_count": 19,
   "metadata": {},
   "outputs": [],
   "source": [
    "# create cosine similarity matrices for movie and predict a movie-movie recommendation model\n",
    "from sklearn.metrics import pairwise_distances"
   ]
  },
  {
   "cell_type": "code",
   "execution_count": 20,
   "metadata": {},
   "outputs": [],
   "source": [
    "movie_similarity = pairwise_distances(train_data_matrix.T, metric='cosine')"
   ]
  },
  {
   "cell_type": "code",
   "execution_count": 21,
   "metadata": {},
   "outputs": [],
   "source": [
    "movie_pred = train_data_matrix.dot(movie_similarity) / np.array([np.abs(movie_similarity).sum(axis=1)])"
   ]
  },
  {
   "cell_type": "code",
   "execution_count": 22,
   "metadata": {},
   "outputs": [
    {
     "data": {
      "text/plain": [
       "array([[0.3601423 , 0.37468591, 0.38555253, ..., 0.43987287, 0.43020151,\n",
       "        0.42583466],\n",
       "       [0.07689702, 0.09049467, 0.08627455, ..., 0.09093084, 0.09268116,\n",
       "        0.09258121],\n",
       "       [0.0601847 , 0.06255669, 0.06002096, ..., 0.05612977, 0.06010916,\n",
       "        0.0607841 ],\n",
       "       ...,\n",
       "       [0.03082545, 0.03993049, 0.03774397, ..., 0.04412229, 0.04334926,\n",
       "        0.04348863],\n",
       "       [0.11176174, 0.12036151, 0.12566507, ..., 0.13078367, 0.12922005,\n",
       "        0.13074026],\n",
       "       [0.2001507 , 0.19112607, 0.21173218, ..., 0.2444638 , 0.23716091,\n",
       "        0.23769593]])"
      ]
     },
     "execution_count": 22,
     "metadata": {},
     "output_type": "execute_result"
    }
   ],
   "source": [
    "movie_pred"
   ]
  },
  {
   "cell_type": "code",
   "execution_count": null,
   "metadata": {},
   "outputs": [],
   "source": []
  }
 ],
 "metadata": {
  "kernelspec": {
   "display_name": "Python 3",
   "language": "python",
   "name": "python3"
  },
  "language_info": {
   "codemirror_mode": {
    "name": "ipython",
    "version": 3
   },
   "file_extension": ".py",
   "mimetype": "text/x-python",
   "name": "python",
   "nbconvert_exporter": "python",
   "pygments_lexer": "ipython3",
   "version": "3.7.6"
  }
 },
 "nbformat": 4,
 "nbformat_minor": 4
}
